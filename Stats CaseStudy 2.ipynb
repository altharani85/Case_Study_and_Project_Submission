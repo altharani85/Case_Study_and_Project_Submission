{
 "cells": [
  {
   "cell_type": "markdown",
   "metadata": {},
   "source": [
    "# Problem Statement 1: "
   ]
  },
  {
   "cell_type": "code",
   "execution_count": 48,
   "metadata": {},
   "outputs": [
    {
     "name": "stdout",
     "output_type": "stream",
     "text": [
      "1. Yes, its correctly stated,For alternative hypothesis mu value can be greater than or less than 25,\n",
      "This is called two sided alternative hypothesis\n",
      "-----------------------------------------------------------------------\n",
      "2. No, Because we always states the Null hypothesis with equality symbol\n",
      "------------------------------------------------------------------------\n",
      "3. No, Hypothesis always states on the population or distribution,not states on the sample.\n",
      "-------------------------------------------------------------------------\n",
      "4. No, Values in both the hypothesis are different.\n",
      "-------------------------------------------------------------------------\n",
      "5. No, Hypothesis always states on the population or distribution,not states on the sample.\n"
     ]
    }
   ],
   "source": [
    "'''\n",
    "In each of the following situations, state whether it is a correctly stated hypothesis\n",
    "testing problem and why?\n",
    "1. 𝐻0: 𝜇 = 25, 𝐻1: 𝜇 ≠ 25\n",
    "2. 𝐻0: 𝜎 > 10, 𝐻1: 𝜎 = 10\n",
    "3. 𝐻0: 𝑥 = 50, 𝐻1: 𝑥 ≠ 50\n",
    "4. 𝐻0: 𝑝 = 0.1, 𝐻1: 𝑝 = 0.5\n",
    "5. 𝐻0: 𝑠 = 30, 𝐻1: 𝑠 > 30\n",
    "'''\n",
    "print(\"1. Yes, its correctly stated,For alternative hypothesis mu value can be greater than or less than 25,\\nThis is called two sided alternative hypothesis\")\n",
    "print(\"-----------------------------------------------------------------------\")\n",
    "print(\"2. No, Because we always states the Null hypothesis with equality symbol\")\n",
    "print(\"------------------------------------------------------------------------\")\n",
    "print(\"3. No, Hypothesis always states on the population or distribution,not states on the sample.\")\n",
    "print(\"-------------------------------------------------------------------------\")\n",
    "print(\"4. No, Values in both the hypothesis are different.\")\n",
    "print(\"-------------------------------------------------------------------------\")\n",
    "print(\"5. No, Hypothesis always states on the population or distribution,not states on the sample.\")"
   ]
  },
  {
   "cell_type": "markdown",
   "metadata": {},
   "source": [
    "# Problem Statement 2:"
   ]
  },
  {
   "cell_type": "code",
   "execution_count": 5,
   "metadata": {},
   "outputs": [
    {
     "name": "stdout",
     "output_type": "stream",
     "text": [
      "Z-Score:1.78\n",
      "So accept null hypothesis and mean average cost of the text book is Rs.52\n"
     ]
    }
   ],
   "source": [
    "'''The college bookstore tells prospective students that the average cost of its\n",
    "textbooks is Rs. 52 with a standard deviation of Rs. 4.50. A group of smart statistics\n",
    "students thinks that the average cost is higher. To test the bookstore’s claim against\n",
    "their alternative, the students will select a random sample of size 100. Assume that\n",
    "the mean from their random sample is Rs. 52.80. Perform a hypothesis test at the\n",
    "5% level of significance and state your decision.\n",
    "'''\n",
    "import math\n",
    "# setting up hypothesis\n",
    "# H0 => μ = 52 (Null Hypothesis)\n",
    "# H1 => μ ≠ 52 (Alternate Hypothesis)\n",
    "# levelof significance = 5%\n",
    "mu = 52\n",
    "s = 4.50\n",
    "n = 100\n",
    "sample_mean = 52.80\n",
    "z = (sample_mean - mu)/(s / math.sqrt(n))\n",
    "print(\"Z-Score:{:.2f}\".format(z))\n",
    "# The Critical value of z is -1.96 to +1.96 for 5% level of significance\n",
    "# The computed z-value lies between the critical value of z,\n",
    "print(\"So accept null hypothesis and mean average cost of the text book is Rs.52\")\n"
   ]
  },
  {
   "cell_type": "markdown",
   "metadata": {},
   "source": [
    "# Problem Statement 3: "
   ]
  },
  {
   "cell_type": "code",
   "execution_count": 8,
   "metadata": {},
   "outputs": [
    {
     "name": "stdout",
     "output_type": "stream",
     "text": [
      "Z-Score:-1.33\n",
      "Critical value of z is -2.58 and +2.58\n",
      "The computed value of z=-1.33 lies between critical value,so accept the null hypothesis\n"
     ]
    }
   ],
   "source": [
    "'''A certain chemical pollutant in the Genesee River has been constant for several\n",
    "years with mean μ = 34 ppm (parts per million) and standard deviation σ = 8 ppm. A\n",
    "group of factory representatives whose companies discharge liquids into the river is\n",
    "now claiming that they have lowered the average with improved filtration devices. A\n",
    "group of environmentalists will test to see if this is true at the 1% level of\n",
    "significance. Assume \\ that their sample of size 50 gives a mean of 32.5 ppm.\n",
    "Perform a hypothesis test at the 1% level of significance and state your decision.'''\n",
    "μ = 34\n",
    "σ = 8 \n",
    "n = 50\n",
    "sample_mean = 32.5\n",
    "# State the hypothesis\n",
    "# H0 => μ = 34\n",
    "# H1 => μ ≠ 34\n",
    "# Level of Significance = 1%\n",
    "z = (sample_mean - μ ) / (σ / math.sqrt(n))\n",
    "print(\"Z-Score:{:.2f}\".format(z))\n",
    "print(\"Critical value of z is -2.58 and +2.58\")\n",
    "print(\"The computed value of z=-1.33 lies between critical value,so accept the null hypothesis\")"
   ]
  },
  {
   "cell_type": "markdown",
   "metadata": {},
   "source": [
    "# Problem Statement 4: "
   ]
  },
  {
   "cell_type": "code",
   "execution_count": 6,
   "metadata": {},
   "outputs": [
    {
     "name": "stdout",
     "output_type": "stream",
     "text": [
      "Z-Score:-2.02\n",
      "The critical value of z is -1.96 and +1.96\n",
      "The computed value of z falls in rejection region,so we reject the null hypothesis,Hence the average dental expences\n",
      " for the population is not accurate for their area. \n"
     ]
    }
   ],
   "source": [
    "'''Based on population figures and other general information on the U.S. population,\n",
    "suppose it has been estimated that, on average, a family of four in the U.S. spends\n",
    "about $1135 annually on dental expenditures. Suppose further that a regional dental\n",
    "association wants to test to determine if this figure is accurate for their area of\n",
    "country. To test this, 22 families of 4 are randomly selected from the population in\n",
    "that area of the country and a log is kept of the family’s dental expenditure for one\n",
    "year. The resulting data are given below. Assuming, that dental expenditure is\n",
    "normally distributed in the population, use the data and an alpha of 0.5 to test the\n",
    "dental association’s hypothesis.\n",
    "1008, 812, 1117, 1323, 1308, 1415, 831, 1021, 1287, 851, 930, 730, 699,\n",
    "872, 913, 944, 954, 987, 1695, 995, 1003, 994'''\n",
    "import math\n",
    "μ = 1135\n",
    "s = 240.37 \n",
    "n = 22\n",
    "sample_mean = 1031.32\n",
    "\n",
    "# State the hypothesis\n",
    "# H0 => μ = 1135\n",
    "# H1 => μ ≠ 1135\n",
    "# Level of Significance = 5%\n",
    "z = (sample_mean - μ ) / (s / math.sqrt(n))\n",
    "print(\"Z-Score:{:.2f}\".format(z))\n",
    "print(\"The critical value of z is -1.96 and +1.96\")\n",
    "print(\"The computed value of z falls in rejection region,so we reject the null hypothesis,Hence the average dental expences\\n for the population is not accurate for their area. \")"
   ]
  },
  {
   "cell_type": "markdown",
   "metadata": {},
   "source": [
    "# Problem Statement 5: "
   ]
  },
  {
   "cell_type": "code",
   "execution_count": 8,
   "metadata": {},
   "outputs": [
    {
     "name": "stdout",
     "output_type": "stream",
     "text": [
      "Z-Score:1.42\n",
      "The critical value of z is -1.645 and +1.645\n",
      "The computed value of z value is 1.42 falls in accepted region.So we accept null hypothesis \n"
     ]
    }
   ],
   "source": [
    "'''In a report prepared by the Economic Research Department of a major bank the\n",
    "Department manager maintains that the average annual family income on Metropolis\n",
    "is $48,432. What do you conclude about the validity of the report if a random sample\n",
    "of 400 families shows and average income of $48,574 with a standard deviation of\n",
    "2000?'''\n",
    "n = 400\n",
    "sample_mean = 48574\n",
    "s = 2000\n",
    "μ = 48432\n",
    "# State the hypothesis\n",
    "# H0 => μ = 1135\n",
    "# H1 => μ ≠ 1135\n",
    "# Level of Significance = 10%\n",
    "z = (sample_mean - μ ) / (s / math.sqrt(n))\n",
    "print(\"Z-Score:{:.2f}\".format(z))\n",
    "print(\"The critical value of z is -1.645 and +1.645\")\n",
    "print(\"The computed value of z value is 1.42 falls in accepted region.So we accept null hypothesis \")"
   ]
  },
  {
   "cell_type": "markdown",
   "metadata": {},
   "source": [
    "# Problem Statement 6:"
   ]
  },
  {
   "cell_type": "code",
   "execution_count": 10,
   "metadata": {},
   "outputs": [
    {
     "name": "stdout",
     "output_type": "stream",
     "text": [
      "Z-Score:-2.06\n",
      "The critical value of z is -1.96 and +1.96\n",
      "The computed value of z value is -2.06 falls in rejection region.So we reject the null hypothesis \n",
      "Hence the average price per square foot for warehouses has changed now.\n"
     ]
    }
   ],
   "source": [
    "'''Suppose that in past years the average price per square foot for warehouses in the\n",
    "United States has been $32.28. A national real estate investor wants to determine\n",
    "whether that figure has changed now. The investor hires a researcher who randomly\n",
    "samples 19 warehouses that are for sale across the United States and finds that the\n",
    "mean price per square foot is $31.67, with a standard deviation of $1.29. assume\n",
    "that the prices of warehouse footage are normally distributed in population. If the\n",
    "researcher uses a 5% level of significance, what statistical conclusion can be\n",
    "reached? What are the hypotheses? '''\n",
    "n = 19\n",
    "sample_mean = 31.67\n",
    "s = 1.29\n",
    "μ = 32.28\n",
    "# State the hypothesis\n",
    "# H0 => μ = 32.28\n",
    "# H1 => μ ≠ 32.28\n",
    "# Level of Significance = 5%\n",
    "z = (sample_mean - μ ) / (s / math.sqrt(n))\n",
    "print(\"Z-Score:{:.2f}\".format(z))\n",
    "print(\"The critical value of z is -1.96 and +1.96\")\n",
    "print(\"The computed value of z value is -2.06 falls in rejection region.So we reject the null hypothesis \")\n",
    "print(\"Hence the average price per square foot for warehouses has changed now.\")"
   ]
  },
  {
   "cell_type": "markdown",
   "metadata": {},
   "source": [
    "# Problem Statement 7:"
   ]
  },
  {
   "cell_type": "code",
   "execution_count": 6,
   "metadata": {},
   "outputs": [
    {
     "data": {
      "text/html": [
       "<div>\n",
       "<style scoped>\n",
       "    .dataframe tbody tr th:only-of-type {\n",
       "        vertical-align: middle;\n",
       "    }\n",
       "\n",
       "    .dataframe tbody tr th {\n",
       "        vertical-align: top;\n",
       "    }\n",
       "\n",
       "    .dataframe thead th {\n",
       "        text-align: right;\n",
       "    }\n",
       "</style>\n",
       "<table border=\"1\" class=\"dataframe\">\n",
       "  <thead>\n",
       "    <tr style=\"text-align: right;\">\n",
       "      <th></th>\n",
       "      <th>Acceptance Region</th>\n",
       "      <th>Sample Size</th>\n",
       "      <th>α values</th>\n",
       "      <th>β at μ = 52</th>\n",
       "      <th>β at μ = 50.5</th>\n",
       "    </tr>\n",
       "  </thead>\n",
       "  <tbody>\n",
       "    <tr>\n",
       "      <th>0</th>\n",
       "      <td>48.5 &lt; x &lt; 51.5</td>\n",
       "      <td>10</td>\n",
       "      <td>0.0588</td>\n",
       "      <td>0.735690</td>\n",
       "      <td>0.891361</td>\n",
       "    </tr>\n",
       "    <tr>\n",
       "      <th>1</th>\n",
       "      <td>48 &lt; x &lt; 52</td>\n",
       "      <td>10</td>\n",
       "      <td>0.0118</td>\n",
       "      <td>0.499990</td>\n",
       "      <td>0.970297</td>\n",
       "    </tr>\n",
       "    <tr>\n",
       "      <th>2</th>\n",
       "      <td>48.81 &lt; x &lt; 51.9</td>\n",
       "      <td>16</td>\n",
       "      <td>0.0299</td>\n",
       "      <td>0.563549</td>\n",
       "      <td>0.871124</td>\n",
       "    </tr>\n",
       "    <tr>\n",
       "      <th>3</th>\n",
       "      <td>48.40 &lt; x &lt; 51.58</td>\n",
       "      <td>16</td>\n",
       "      <td>0.0111</td>\n",
       "      <td>0.749198</td>\n",
       "      <td>0.957670</td>\n",
       "    </tr>\n",
       "  </tbody>\n",
       "</table>\n",
       "</div>"
      ],
      "text/plain": [
       "   Acceptance Region  Sample Size  α values  β at μ = 52  β at μ = 50.5\n",
       "0    48.5 < x < 51.5           10    0.0588     0.735690       0.891361\n",
       "1        48 < x < 52           10    0.0118     0.499990       0.970297\n",
       "2   48.81 < x < 51.9           16    0.0299     0.563549       0.871124\n",
       "3  48.40 < x < 51.58           16    0.0111     0.749198       0.957670"
      ]
     },
     "execution_count": 6,
     "metadata": {},
     "output_type": "execute_result"
    }
   ],
   "source": [
    "'''Fill in the blank spaces in the table and draw your conclusions from it.\n",
    "'''\n",
    "import pandas as pd\n",
    "d = {'Acceptance Region':['48.5 < x < 51.5','48 < x < 52','48.81 < x < 51.9','48.40 < x < 51.58'],'Sample Size':[10,10,16,16],'α values':[0.0588,0.0118,0.0299,0.0111],\n",
    "     'β at μ = 52':[0.73569,0.49999,0.563549,0.749198],'β at μ = 50.5':[0.891361,0.970297,0.871124,0.95767]}\n",
    "df = pd.DataFrame(data=d)\n",
    "df\n"
   ]
  },
  {
   "cell_type": "markdown",
   "metadata": {},
   "source": [
    "# Problem Statement 8:"
   ]
  },
  {
   "cell_type": "code",
   "execution_count": 89,
   "metadata": {},
   "outputs": [
    {
     "name": "stdout",
     "output_type": "stream",
     "text": [
      "Calculated t-Score:5.33\n"
     ]
    }
   ],
   "source": [
    "'''\n",
    "Find the t-score for a sample size of 16 taken from a population with mean 10 when\n",
    "the sample mean is 12 and the sample standard deviation is 1.5.'''\n",
    "n = 16\n",
    "population_mean = 10\n",
    "sample_mean = 12\n",
    "s = 1.5 #Sample Standard deviation\n",
    "t_score= (sample_mean - population_mean)/(s/np.sqrt(n))\n",
    "print(\"Calculated t-Score:{:.2f}\".format(t_score))\n"
   ]
  },
  {
   "cell_type": "markdown",
   "metadata": {},
   "source": [
    "# Problem Statement 9:"
   ]
  },
  {
   "cell_type": "code",
   "execution_count": 2,
   "metadata": {},
   "outputs": [
    {
     "name": "stdout",
     "output_type": "stream",
     "text": [
      "t-score below which can except 99% of sample means falls if sample size is 16 :-2.602\n"
     ]
    }
   ],
   "source": [
    "'''Find the t-score below which we can expect 99% of sample means will fall if samples\n",
    "of size 16 are taken from a normally distributed population.'''\n",
    "#degrees_freedon = n-1\n",
    "d_f = 15\n",
    "# 1-alpha => 1-0.99 = 0.01\n",
    "alpha = 0.01\n",
    "print(\"t-score below which can except 99% of sample means falls if sample size is 16 :-2.602\" )"
   ]
  },
  {
   "cell_type": "markdown",
   "metadata": {},
   "source": [
    "# Problem Statement 10:"
   ]
  },
  {
   "cell_type": "code",
   "execution_count": null,
   "metadata": {},
   "outputs": [],
   "source": [
    "'''If a random sample of size 25 drawn from a normal population gives a mean of 60\n",
    "and a standard deviation of 4, find the range of t-scores where we can expect to find\n",
    "the middle 95% of all sample means. Compute the probability that (−𝑡0.05 <𝑡<𝑡0.10).'''"
   ]
  },
  {
   "cell_type": "markdown",
   "metadata": {},
   "source": [
    "# Problem Statement 11:"
   ]
  },
  {
   "cell_type": "code",
   "execution_count": 16,
   "metadata": {},
   "outputs": [
    {
     "name": "stdout",
     "output_type": "stream",
     "text": [
      "standard_error:8.96\n",
      "z-value:-7.93\n",
      "Critical value at 90% Significance level is: 1.654\n",
      "Comparing the z-value with critical value : state that -7.93 < 1.654, So reject the null hypothesis. \n",
      "Conclusion: There is no evidence that no of people travelling from Banglore to chennai and Banglore to Hosur in a week \n",
      " are not equal.\n"
     ]
    }
   ],
   "source": [
    "'''Two-tailed test for difference between two population means\n",
    "Is there evidence to conclude that the number of people travelling from Bangalore to\n",
    "Chennai is different from the number of people travelling from Bangalore to Hosur in\n",
    "a week, given the following:\n",
    "Population 1: Bangalore to Chennai n1 = 1200\n",
    "x1 = 452\n",
    "s1 = 212\n",
    "Population 2: Bangalore to Hosur n2 = 800\n",
    "x2 = 523\n",
    "s2 = 185\n",
    "'''\n",
    "import numpy as np\n",
    "from scipy import stats\n",
    "diff_means = -71\n",
    "# Null Hypothesis: H0 => x1-x2=0 \n",
    "# Alternative Hypothesis H1 => x1-x2 # 0\n",
    "# Significance level = 90%\n",
    "n1 = 1200\n",
    "n2 = 800\n",
    "x1 = 452\n",
    "x2 = 523\n",
    "s1 = 212 \n",
    "s2 = 185\n",
    "m1=0\n",
    "m2=0\n",
    "diff_two_means = x1-x2\n",
    "standard_error = np.sqrt((s1**2/n1)+(s2**2/n2))\n",
    "print(\"standard_error:{:.2f}\".format(standard_error))\n",
    "z_value = (diff_two_means)/(standard_error)\n",
    "print(\"z-value:{:.2f}\".format(z_value))\n",
    "print(\"Critical value at 90% Significance level is: 1.654\")\n",
    "print(\"Comparing the z-value with critical value : state that -7.93 < 1.654, So reject the null hypothesis. \")\n",
    "print(\"Conclusion: There is no evidence that no of people travelling from Banglore to chennai and Banglore to Hosur in a week \\n are not equal.\")"
   ]
  },
  {
   "cell_type": "markdown",
   "metadata": {},
   "source": [
    "# Problem Statement 12:"
   ]
  },
  {
   "cell_type": "code",
   "execution_count": 50,
   "metadata": {},
   "outputs": [
    {
     "name": "stdout",
     "output_type": "stream",
     "text": [
      "standard_error:10.74\n",
      "z-value:5.03\n",
      "Critical value at 95% Significance level is: 1.96\n",
      "Comparing the z-value with critical value : 5.03 > 1.96 , So fail to reject the null hypothesis. \n",
      "Conclusion: There is evidence that no of people preferring Duracell battery is different from number of people preferring\n",
      " Energizer batteries.\n"
     ]
    }
   ],
   "source": [
    "'''Is there evidence to conclude that the number of people preferring Duracell battery is\n",
    "different from the number of people preferring Energizer battery, given the following:\n",
    "Population 1: Duracell\n",
    "n1 = 100\n",
    "x1 = 308\n",
    "s1 = 84\n",
    "Population 2: Energizer\n",
    "n2 = 100\n",
    "x2 = 254\n",
    "s2 = 67'''\n",
    "\n",
    "# Null Hypothesis: H0 => x1-x2=0 \n",
    "# Alternative Hypothesis H1 => x1-x2 # 0\n",
    "# Significance level = 90%\n",
    "n1 = 100\n",
    "n2 = 100\n",
    "x1 = 308\n",
    "x2 = 254\n",
    "s1 = 84 \n",
    "s2 = 67\n",
    "m1=0\n",
    "m2=0\n",
    "diff_two_means = x1-x2\n",
    "standard_error = np.sqrt((s1**2/n1)+(s2**2/n2))\n",
    "print(\"standard_error:{:.2f}\".format(standard_error))\n",
    "z_value = (diff_two_means)/(standard_error)\n",
    "print(\"z-value:{:.2f}\".format(z_value))\n",
    "print(\"Critical value at 95% Significance level is: 1.96\")\n",
    "print(\"Comparing the z-value with critical value : 5.03 > 1.96 , So fail to reject the null hypothesis. \")\n",
    "print(\"Conclusion: There is evidence that no of people preferring Duracell battery is different from number of people preferring\\n Energizer batteries.\")"
   ]
  },
  {
   "cell_type": "markdown",
   "metadata": {},
   "source": [
    "# Problem Statement 13: "
   ]
  },
  {
   "cell_type": "code",
   "execution_count": 52,
   "metadata": {},
   "outputs": [
    {
     "name": "stdout",
     "output_type": "stream",
     "text": [
      "Degrees of freedom : 8\n",
      "At 95% Confidence interval with respect to dof:8 : 2.306\n",
      "State the Hypothesis: Null Hypothesis H0=>x1-x2 = 0, Alternative Hypothesis: H1: x1 # X2\n",
      "Calculated t_Statistic:2.20\n",
      "Calculated t-statistic 2.20 is < 2.306,So we reject null Hypothesis\n"
     ]
    }
   ],
   "source": [
    "'''Pooled estimate of the population variance\n",
    "Does the data provide sufficient evidence to conclude that average percentage\n",
    "increase in the price of sugar differs when it is sold at two different prices?\n",
    "Population 1: Price of sugar = Rs. 27.50 \n",
    "n1 = 14\n",
    "x1 = 0.317%\n",
    "s1 = 0.12%\n",
    "Population 2: Price of sugar = Rs. 20.00 \n",
    "n2 = 9\n",
    "x2 = 0.21%\n",
    "s2 = 0.11%'''\n",
    "n1 = 14\n",
    "n2 = 9\n",
    "x1 = 0.317\n",
    "x2 = 0.21\n",
    "s1 = 0.12\n",
    "s2 = 0.11\n",
    "percentage = x1-x2 \n",
    "degrees_freedom = min(n1-1,n2-1)\n",
    "print(\"Degrees of freedom :\",degrees_freedom)\n",
    "print(\"At 95% Confidence interval with respect to dof:8 : 2.306\")\n",
    "print(\"State the Hypothesis: Null Hypothesis H0=>x1-x2 = 0, Alternative Hypothesis: H1: x1 # X2\")\n",
    "t_Statistic = (x1 - x2)/np.sqrt((s1**2/n1) + (s2**2/n2))\n",
    "print(\"Calculated t_Statistic:{:.2f}\".format(t_Statistic))\n",
    "print(\"Calculated t-statistic 2.20 is < 2.306,So we reject null Hypothesis\")\n",
    "#print(\"Conclusion: There is no sufficient evidence to conclude that average percentage \\n increase in the price of sugar differs when it is sold at two different prices\")"
   ]
  },
  {
   "cell_type": "markdown",
   "metadata": {},
   "source": [
    "# Problem Statement 14:"
   ]
  },
  {
   "cell_type": "code",
   "execution_count": 32,
   "metadata": {},
   "outputs": [
    {
     "name": "stdout",
     "output_type": "stream",
     "text": [
      "Degrees of freedom:  11\n",
      "Critical value at 95 % confidence interval with 11 dof is: 2.201\n",
      "Calculated t-Statistic:-0.93\n",
      "Null Hypothesis: H0 => x1-x2 = 0\n",
      "Alternative Hypothesis: H1=>x1-x2 # 0\n",
      "Calculated t-statistic value is -0.93 < 2.201 ,So Reject the null hypothesis\n"
     ]
    }
   ],
   "source": [
    "'''The manufacturers of compact disk players want to test whether a small price\n",
    "reduction is enough to increase sales of their product. Is there evidence that the\n",
    "small price reduction is enough to increase sales of compact disk players?\n",
    "Population 1: Before reduction\n",
    "n1 = 15\n",
    "x1 = Rs. 6598 \n",
    "s1 = Rs. 844\n",
    "Population 2: After reduction \n",
    "n2 = 12\n",
    "x2 = RS. 6870\n",
    "s2 = Rs. 669'''\n",
    "n1 = 15\n",
    "n2 = 12\n",
    "x1 = 6598\n",
    "x2 = 6870\n",
    "s1 = 844\n",
    "s2 = 669\n",
    "diff_two_means = x1-x2\n",
    "degrees_freedom = min((n1-1),(n2-1))\n",
    "print(\"Degrees of freedom: \",degrees_freedom)\n",
    "print(\"Critical value at 95 % confidence interval with 11 dof is: 2.201\")\n",
    "t_statistic = (x1 - x2)/np.sqrt((s1**2/n1) + (s2**2/n2))\n",
    "print(\"Calculated t-Statistic:{:.2f}\".format(t_statistic))\n",
    "print(\"Null Hypothesis: H0 => x1-x2 = 0\")\n",
    "print(\"Alternative Hypothesis: H1=>x1-x2 # 0\")\n",
    "print(\"Calculated t-statistic value is -0.93 < 2.201 ,So Reject the null hypothesis\")"
   ]
  },
  {
   "cell_type": "markdown",
   "metadata": {},
   "source": [
    "# Problem Statement 15:"
   ]
  },
  {
   "cell_type": "code",
   "execution_count": 2,
   "metadata": {},
   "outputs": [
    {
     "name": "stdout",
     "output_type": "stream",
     "text": [
      "State the Hypothesis: Null Hypothesis : H0=0, Alternative Hypothesis: H1 # 0\n",
      "Significance level = 95%, the p-value is 1.96\n",
      "Calculated Z-Value 1.42\n",
      "Calculated Z-value is less than critical value: so we may reject null hypothesis at 95% significance level\n"
     ]
    }
   ],
   "source": [
    "'''Comparisons of two population proportions when the hypothesized difference is zero\n",
    "Carry out a two-tailed test of the equality of banks’ share of the car loan market in\n",
    "1980 and 1995.\n",
    "Population 1: 1980\n",
    "n1 = 100\n",
    "x1 = 53\n",
    "𝑝 1 = 0.53\n",
    "Population 2: 1985\n",
    "n2 = 100\n",
    "x2 = 43\n",
    "𝑝 2= 0.53\n",
    "'''\n",
    "import numpy as np\n",
    "print(\"State the Hypothesis: Null Hypothesis : H0=0, Alternative Hypothesis: H1 # 0\")\n",
    "n1 = 100\n",
    "n2 = 100\n",
    "x1 = 53\n",
    "x2 = 43\n",
    "p1_ = 0.53\n",
    "p2_ = 0.43\n",
    "p_ = (x1+x2)/(n1+n2)\n",
    "print(\"Significance level = 95%, the p-value is 1.96\")\n",
    "Numerator = p1_-p2_\n",
    "Z_value = Numerator /np.sqrt(p_*(1-p_)*((1/n1)+(1/n2)))\n",
    "print(\"Calculated Z-Value {:.2f}\".format(Z_value))\n",
    "print(\"Calculated Z-value is less than critical value: so we may reject null hypothesis at 95% significance level\")"
   ]
  },
  {
   "cell_type": "markdown",
   "metadata": {},
   "source": [
    "# Problem Statement 16:"
   ]
  },
  {
   "cell_type": "code",
   "execution_count": 3,
   "metadata": {},
   "outputs": [
    {
     "name": "stdout",
     "output_type": "stream",
     "text": [
      "State the Hypothesis: Null Hypothesis : H0=p1-p2<=0.10, Alternative Hypothesis: H1 = p1-p2 > 0.10\n",
      "Significance level at 95 % : 1.96 \n",
      "Calculated z_value:3.12\n",
      "Conclusion: The calculated z-value is far away from the region,So we reject the null hypothesis at any common\n",
      "level of significance\n"
     ]
    }
   ],
   "source": [
    "'''Carry out a one-tailed test to determine whether the population proportion of\n",
    "traveler’s check buyers who buy at least $2500 in checks when sweepstakes prizes\n",
    "are offered as at least 10% higher than the proportion of such buyers when no\n",
    "sweepstakes are on.\n",
    "Population 1: With sweepstakes\n",
    "n1 = 300\n",
    "x1 = 120\n",
    "𝑝 1= 0.40\n",
    "Population 2: No sweepstakes n2 = 700\n",
    "x2 = 140\n",
    "𝑝 2= 0.20'''\n",
    "print(\"State the Hypothesis: Null Hypothesis : H0=p1-p2<=0.10, Alternative Hypothesis: H1 = p1-p2 > 0.10\")\n",
    "n1 = 300\n",
    "n2 = 700\n",
    "x1 = 120\n",
    "x2 = 140\n",
    "𝑝1_ = 0.40\n",
    "p2_ = 0.20\n",
    "print(\"Significance level at 95 % : 1.96 \")\n",
    "Numerator = ((p1_-p2_)-(0.10))\n",
    "Denomenator = np.sqrt((p1_*(1-p1_)/n1)+(p2_*(1-p2_)/n2))\n",
    "z_value = Numerator/Denomenator\n",
    "print(\"Calculated z_value:{:.2f}\".format(z_value))\n",
    "print(\"Conclusion: The calculated z-value is far away from the region,So we reject the null hypothesis at any common\\nlevel of significance\")"
   ]
  },
  {
   "cell_type": "markdown",
   "metadata": {},
   "source": [
    "# Problem Statement 17:"
   ]
  },
  {
   "cell_type": "code",
   "execution_count": 4,
   "metadata": {},
   "outputs": [
    {
     "name": "stdout",
     "output_type": "stream",
     "text": [
      "Degrees of freedom: 5\n",
      "Expected value: 22.0\n",
      "Chi-square calculated value is:  9.0\n",
      "At 5% level of significance the table value is:11.07 \n",
      "The calculated value is less than the table value,So there is no evidence against the hypothesis that the \n",
      " die is unbiased \n"
     ]
    }
   ],
   "source": [
    "import numpy as np\n",
    "'''A die is thrown 132 times with the following results: Number turned up: 1, 2, 3, 4, 5, 6\n",
    "Frequency: 16, 20, 25, 14, 29, 28\n",
    "Is the die unbiased? Consider the degrees of freedom as 𝑝 − .'''\n",
    "# set the Null hypothesis H0=>At Null hypothesis the die is unbiased H0=0\n",
    "# At alternative hypothesis the die is not unbiased H1 # 0\n",
    "# Significance level 95%\n",
    "print(\"Degrees of freedom:\" ,5) # Degrees of freedom:6-1=5\n",
    "E = 132/6\n",
    "print(\"Expected value:\",E)\n",
    "frequency = [16,20,25,14,29,28]\n",
    "temp = []\n",
    "for i in frequency:    \n",
    "    temp.append(((i - E)**2)/E)\n",
    "Chi_square = format(np.sum(temp))\n",
    "print(\"Chi-square calculated value is: \",Chi_square)\n",
    "print(\"At 5% level of significance the table value is:11.07 \")\n",
    "print(\"The calculated value is less than the table value,So there is no evidence against the hypothesis that the \\n die is unbiased \")"
   ]
  },
  {
   "cell_type": "markdown",
   "metadata": {},
   "source": [
    "# Problem Statement 18:"
   ]
  },
  {
   "cell_type": "code",
   "execution_count": 5,
   "metadata": {},
   "outputs": [
    {
     "data": {
      "text/html": [
       "<div>\n",
       "<style scoped>\n",
       "    .dataframe tbody tr th:only-of-type {\n",
       "        vertical-align: middle;\n",
       "    }\n",
       "\n",
       "    .dataframe tbody tr th {\n",
       "        vertical-align: top;\n",
       "    }\n",
       "\n",
       "    .dataframe thead th {\n",
       "        text-align: right;\n",
       "    }\n",
       "</style>\n",
       "<table border=\"1\" class=\"dataframe\">\n",
       "  <thead>\n",
       "    <tr style=\"text-align: right;\">\n",
       "      <th></th>\n",
       "      <th>Status</th>\n",
       "      <th>Men</th>\n",
       "      <th>Women</th>\n",
       "      <th>Total</th>\n",
       "    </tr>\n",
       "  </thead>\n",
       "  <tbody>\n",
       "    <tr>\n",
       "      <th>0</th>\n",
       "      <td>Voted</td>\n",
       "      <td>2792</td>\n",
       "      <td>3591</td>\n",
       "      <td>6383</td>\n",
       "    </tr>\n",
       "    <tr>\n",
       "      <th>1</th>\n",
       "      <td>Non Voted</td>\n",
       "      <td>1486</td>\n",
       "      <td>2131</td>\n",
       "      <td>3617</td>\n",
       "    </tr>\n",
       "    <tr>\n",
       "      <th>2</th>\n",
       "      <td>Total</td>\n",
       "      <td>4278</td>\n",
       "      <td>5722</td>\n",
       "      <td>10000</td>\n",
       "    </tr>\n",
       "  </tbody>\n",
       "</table>\n",
       "</div>"
      ],
      "text/plain": [
       "      Status   Men  Women  Total\n",
       "0      Voted  2792   3591   6383\n",
       "1  Non Voted  1486   2131   3617\n",
       "2      Total  4278   5722  10000"
      ]
     },
     "execution_count": 5,
     "metadata": {},
     "output_type": "execute_result"
    }
   ],
   "source": [
    "'''In a certain town, there are about one million eligible voters. A simple random\n",
    "sample of 10,000 eligible voters was chosen to study the relationship between\n",
    "gender and participation in the last election. The results are summarized in the\n",
    "following 2X2 (read two by two) contingency table:\n",
    "We would want to check whether being a man or a woman (columns) is independent of\n",
    "having voted in the last election (rows). In other words, is “gender and voting independent”?'''\n",
    "import numpy as np\n",
    "import pandas as pd\n",
    "d = {'Status':['Voted','Non Voted','Total'],'Men':[2792,1486,4278],'Women':[3591,2131,5722],'Total':[6383,3617,10000]}\n",
    "df = pd.DataFrame(data=d)\n",
    "df\n"
   ]
  },
  {
   "cell_type": "code",
   "execution_count": 6,
   "metadata": {},
   "outputs": [
    {
     "data": {
      "text/plain": [
       "array([2792, 3591, 6383, 1486, 2131, 3617], dtype=object)"
      ]
     },
     "execution_count": 6,
     "metadata": {},
     "output_type": "execute_result"
    }
   ],
   "source": [
    "df_obs = np.append(df.iloc[0][1:4].values,df.iloc[1][1:4].values)\n",
    "df_obs"
   ]
  },
  {
   "cell_type": "code",
   "execution_count": 7,
   "metadata": {},
   "outputs": [],
   "source": [
    "row_sums = df.iloc[0:3,3].values\n",
    "#row_sums\n",
    "col_sums = df.iloc[2,1:4].values\n",
    "#col_sums"
   ]
  },
  {
   "cell_type": "code",
   "execution_count": 8,
   "metadata": {},
   "outputs": [
    {
     "data": {
      "text/plain": [
       "[2730.6474, 3652.3526, 6383.0, 1547.3526, 2069.6474, 3617.0]"
      ]
     },
     "execution_count": 8,
     "metadata": {},
     "output_type": "execute_result"
    }
   ],
   "source": [
    "total = df.loc[2, 'Total']\n",
    "f_expected = []\n",
    "for i in range(2):\n",
    "    for j in col_sums:\n",
    "        f_expected.append(j*row_sums[i]/total)\n",
    "f_expected"
   ]
  },
  {
   "cell_type": "code",
   "execution_count": 9,
   "metadata": {},
   "outputs": [
    {
     "name": "stdout",
     "output_type": "stream",
     "text": [
      "Chi-squared Statistic: 6.66\n"
     ]
    }
   ],
   "source": [
    "chi_squared_statistic = ((df_obs - f_expected)**2/f_expected).sum()\n",
    "print('Chi-squared Statistic: {:.2f}'.format(chi_squared_statistic))"
   ]
  },
  {
   "cell_type": "code",
   "execution_count": 10,
   "metadata": {},
   "outputs": [
    {
     "name": "stdout",
     "output_type": "stream",
     "text": [
      "Degrees of Freedom: 4\n"
     ]
    }
   ],
   "source": [
    "dof = (len(row_sums)-1)*(len(col_sums)-1)\n",
    "print(\"Degrees of Freedom: {}\".format(dof))"
   ]
  },
  {
   "cell_type": "code",
   "execution_count": 11,
   "metadata": {},
   "outputs": [
    {
     "name": "stdout",
     "output_type": "stream",
     "text": [
      "H0 => Null Hypothesis states that Gender is independent of voting.\n",
      "H1 => Alternate hypothesis states that Gender and voting are dependent..\n",
      "At 5% level of significance: 9.41\n",
      "Calculated Chi-squared Statistic:6.66\n",
      "Calculated Chi-squared statistic 6.66 < 9.41 at 5 % level of significance,So the value lies on the non rejection region\n",
      ",We reject the null and supports the hypothesis that sex and voting are dependent.\n"
     ]
    }
   ],
   "source": [
    "# Stating the Hypothesis\n",
    "print(\"H0 => Null Hypothesis states that Gender is independent of voting.\")\n",
    "\n",
    "print(\"H1 => Alternate hypothesis states that Gender and voting are dependent..\")\n",
    "# Significance Level\n",
    "# 5 % level of significance.\n",
    "print(\"At 5% level of significance: 9.41\")\n",
    "print(\"Calculated Chi-squared Statistic:{:.2f}\".format(chi_squared_statistic))\n",
    "print(\"Calculated Chi-squared statistic 6.66 < 9.41 at 5 % level of significance,So the value lies on the non rejection region\\n,We reject the null and supports the hypothesis that sex and voting are dependent.\")"
   ]
  },
  {
   "cell_type": "markdown",
   "metadata": {},
   "source": [
    "# Problem Statement 19:"
   ]
  },
  {
   "cell_type": "code",
   "execution_count": 88,
   "metadata": {},
   "outputs": [
    {
     "data": {
      "text/html": [
       "<div>\n",
       "<style scoped>\n",
       "    .dataframe tbody tr th:only-of-type {\n",
       "        vertical-align: middle;\n",
       "    }\n",
       "\n",
       "    .dataframe tbody tr th {\n",
       "        vertical-align: top;\n",
       "    }\n",
       "\n",
       "    .dataframe thead th {\n",
       "        text-align: right;\n",
       "    }\n",
       "</style>\n",
       "<table border=\"1\" class=\"dataframe\">\n",
       "  <thead>\n",
       "    <tr style=\"text-align: right;\">\n",
       "      <th></th>\n",
       "      <th>Higgins</th>\n",
       "      <th>Reardon</th>\n",
       "      <th>White</th>\n",
       "      <th>Charlton</th>\n",
       "    </tr>\n",
       "  </thead>\n",
       "  <tbody>\n",
       "    <tr>\n",
       "      <th>0</th>\n",
       "      <td>41</td>\n",
       "      <td>19</td>\n",
       "      <td>24</td>\n",
       "      <td>16</td>\n",
       "    </tr>\n",
       "  </tbody>\n",
       "</table>\n",
       "</div>"
      ],
      "text/plain": [
       "   Higgins  Reardon  White  Charlton\n",
       "0       41       19     24        16"
      ]
     },
     "execution_count": 88,
     "metadata": {},
     "output_type": "execute_result"
    }
   ],
   "source": [
    "'''A sample of 100 voters are asked which of four candidates they would vote for in an\n",
    "election. The number supporting each candidate is given below:\n",
    "Do the data suggest that all candidates are equally popular? [Chi-Square = 14.96,\n",
    "with 3 df, 𝑝 0.05 .'''\n",
    "d = {'Higgins':[41],'Reardon':[19],'White':[24],'Charlton':[16]}\n",
    "df = pd.DataFrame(data=d)\n",
    "df\n",
    "#df_values = df.values\n",
    "#df_values"
   ]
  },
  {
   "cell_type": "code",
   "execution_count": 89,
   "metadata": {},
   "outputs": [
    {
     "data": {
      "text/plain": [
       "25.0"
      ]
     },
     "execution_count": 89,
     "metadata": {},
     "output_type": "execute_result"
    }
   ],
   "source": [
    "df_expected = df.values.sum()/4\n",
    "df_expected"
   ]
  },
  {
   "cell_type": "code",
   "execution_count": 91,
   "metadata": {},
   "outputs": [
    {
     "name": "stdout",
     "output_type": "stream",
     "text": [
      "Chi-squared Statistic: 14.96\n"
     ]
    }
   ],
   "source": [
    "chi_squared_statistic = ((df_values - df_expected)**2/df_expected).sum()\n",
    "print('Chi-squared Statistic: {:.2f}'.format(chi_squared_statistic))\n"
   ]
  },
  {
   "cell_type": "code",
   "execution_count": 96,
   "metadata": {},
   "outputs": [
    {
     "name": "stdout",
     "output_type": "stream",
     "text": [
      "At 0.05 with 3 degrees of freedom the critical value is: 7.81\n",
      "H0 => Null Hypothesis states that the four candidates are equal.\n",
      "H1 => Alternate hypothesis states that the four candidates are not equal..\n",
      "Since calculated chi-square value is far away from the critical value,So the voters do not prefer the four candidates \n",
      " equally.So will fail to accept Null hypothesis\n"
     ]
    }
   ],
   "source": [
    "print(\"At 0.05 with 3 degrees of freedom the critical value is: 7.81\")\n",
    "print(\"H0 => Null Hypothesis states that the four candidates are equal.\")\n",
    "\n",
    "print(\"H1 => Alternate hypothesis states that the four candidates are not equal..\")\n",
    "print(\"Since calculated chi-square value is far away from the critical value,So the voters do not prefer the four candidates \\n equally.So will fail to accept Null hypothesis\")"
   ]
  },
  {
   "cell_type": "markdown",
   "metadata": {},
   "source": [
    "# Problem Statement 20:"
   ]
  },
  {
   "cell_type": "code",
   "execution_count": 133,
   "metadata": {},
   "outputs": [
    {
     "data": {
      "text/html": [
       "<div>\n",
       "<style scoped>\n",
       "    .dataframe tbody tr th:only-of-type {\n",
       "        vertical-align: middle;\n",
       "    }\n",
       "\n",
       "    .dataframe tbody tr th {\n",
       "        vertical-align: top;\n",
       "    }\n",
       "\n",
       "    .dataframe thead th {\n",
       "        text-align: right;\n",
       "    }\n",
       "</style>\n",
       "<table border=\"1\" class=\"dataframe\">\n",
       "  <thead>\n",
       "    <tr style=\"text-align: right;\">\n",
       "      <th></th>\n",
       "      <th>Age of Child</th>\n",
       "      <th>Photograph_A</th>\n",
       "      <th>Photograph_B</th>\n",
       "      <th>Photograph_C</th>\n",
       "      <th>Total</th>\n",
       "    </tr>\n",
       "  </thead>\n",
       "  <tbody>\n",
       "    <tr>\n",
       "      <th>0</th>\n",
       "      <td>5-6 years</td>\n",
       "      <td>18</td>\n",
       "      <td>22</td>\n",
       "      <td>20</td>\n",
       "      <td>60</td>\n",
       "    </tr>\n",
       "    <tr>\n",
       "      <th>1</th>\n",
       "      <td>7-8 years</td>\n",
       "      <td>2</td>\n",
       "      <td>28</td>\n",
       "      <td>40</td>\n",
       "      <td>70</td>\n",
       "    </tr>\n",
       "    <tr>\n",
       "      <th>2</th>\n",
       "      <td>9-10 years</td>\n",
       "      <td>20</td>\n",
       "      <td>10</td>\n",
       "      <td>40</td>\n",
       "      <td>70</td>\n",
       "    </tr>\n",
       "    <tr>\n",
       "      <th>3</th>\n",
       "      <td>Total</td>\n",
       "      <td>40</td>\n",
       "      <td>60</td>\n",
       "      <td>100</td>\n",
       "      <td>200</td>\n",
       "    </tr>\n",
       "  </tbody>\n",
       "</table>\n",
       "</div>"
      ],
      "text/plain": [
       "  Age of Child  Photograph_A  Photograph_B  Photograph_C  Total\n",
       "0    5-6 years            18            22            20     60\n",
       "1    7-8 years             2            28            40     70\n",
       "2   9-10 years            20            10            40     70\n",
       "3        Total            40            60           100    200"
      ]
     },
     "execution_count": 133,
     "metadata": {},
     "output_type": "execute_result"
    }
   ],
   "source": [
    "'''Children of three ages are asked to indicate their preference for three photographs of\n",
    "adults. Do the data suggest that there is a significant relationship between age and\n",
    "photograph preference? What is wrong with this study? [Chi-Square = 29.6, with 4\n",
    "df: 𝑝 < 0.05].'''\n",
    "d = {'Age of Child':['5-6 years','7-8 years','9-10 years','Total'],'Photograph_A':[18,2,20,40],'Photograph_B':[22,28,10,60],'Photograph_C':[20,40,40,100],'Total':[60,70,70,200]}\n",
    "df = pd.DataFrame(data=d)\n",
    "\n",
    "df"
   ]
  },
  {
   "cell_type": "code",
   "execution_count": 167,
   "metadata": {},
   "outputs": [
    {
     "data": {
      "text/plain": [
       "array([18, 22, 20, 2, 28, 40, 20, 10, 40], dtype=object)"
      ]
     },
     "execution_count": 167,
     "metadata": {},
     "output_type": "execute_result"
    }
   ],
   "source": [
    "\n",
    "df_obs_values = np.concatenate((df.iloc[0][1:4].values,df.iloc[1][1:4].values,df.iloc[2][1:4].values))\n",
    "df_obs_values"
   ]
  },
  {
   "cell_type": "code",
   "execution_count": 124,
   "metadata": {},
   "outputs": [
    {
     "data": {
      "text/plain": [
       "Photograph_A     40\n",
       "Photograph_B     60\n",
       "Photograph_C    100\n",
       "Name: 3, dtype: object"
      ]
     },
     "execution_count": 124,
     "metadata": {},
     "output_type": "execute_result"
    }
   ],
   "source": [
    "row_total = df.iloc[0:3,4]\n",
    "column_total = df.iloc[3,1:4]"
   ]
  },
  {
   "cell_type": "code",
   "execution_count": 130,
   "metadata": {},
   "outputs": [
    {
     "data": {
      "text/plain": [
       "[12.0, 18.0, 30.0, 14.0, 21.0, 35.0, 14.0, 21.0, 35.0]"
      ]
     },
     "execution_count": 130,
     "metadata": {},
     "output_type": "execute_result"
    }
   ],
   "source": [
    "total = df.loc[3, 'Total']\n",
    "f_expected = []\n",
    "for i in range(3):\n",
    "    for j in column_total:\n",
    "        f_expected.append(j*row_total[i]/total)\n",
    "f_expected"
   ]
  },
  {
   "cell_type": "code",
   "execution_count": 169,
   "metadata": {},
   "outputs": [
    {
     "name": "stdout",
     "output_type": "stream",
     "text": [
      "Chi-squared Statistic: 29.60\n"
     ]
    }
   ],
   "source": [
    "chi_squared_statistic = ((df_obs_values - f_expected)**2/f_expected).sum()\n",
    "print('Chi-squared Statistic: {:.2f}'.format(chi_squared_statistic))"
   ]
  },
  {
   "cell_type": "code",
   "execution_count": 170,
   "metadata": {},
   "outputs": [
    {
     "name": "stdout",
     "output_type": "stream",
     "text": [
      "Degrees of Freedom: 4\n"
     ]
    }
   ],
   "source": [
    "dof = (len(row_total)-1)*(len(column_total)-1)\n",
    "print(\"Degrees of Freedom: {}\".format(dof))"
   ]
  },
  {
   "cell_type": "code",
   "execution_count": 172,
   "metadata": {},
   "outputs": [
    {
     "name": "stdout",
     "output_type": "stream",
     "text": [
      "Critical value with 0.05 significance level is: 9.49\n",
      "Calculated Chi-square value is far away from the critical value,So the value is not in the rejection region,\n",
      " we can accept the Alternative hypothesis\n",
      "Since there is a significance relationship between age of a child and photographer preference. \n"
     ]
    }
   ],
   "source": [
    "print(\"Critical value with 0.05 significance level is: 9.49\")\n",
    "print(\"Calculated Chi-square value is far away from the critical value,So the value is not in the rejection region,\\n we can accept the Alternative hypothesis\")\n",
    "print(\"Conclusion: Since there is a significance relationship between age of a child and photographer preference. \")"
   ]
  },
  {
   "cell_type": "markdown",
   "metadata": {},
   "source": [
    "# Problem Statement 21: "
   ]
  },
  {
   "cell_type": "code",
   "execution_count": 175,
   "metadata": {},
   "outputs": [
    {
     "data": {
      "text/html": [
       "<div>\n",
       "<style scoped>\n",
       "    .dataframe tbody tr th:only-of-type {\n",
       "        vertical-align: middle;\n",
       "    }\n",
       "\n",
       "    .dataframe tbody tr th {\n",
       "        vertical-align: top;\n",
       "    }\n",
       "\n",
       "    .dataframe thead th {\n",
       "        text-align: right;\n",
       "    }\n",
       "</style>\n",
       "<table border=\"1\" class=\"dataframe\">\n",
       "  <thead>\n",
       "    <tr style=\"text-align: right;\">\n",
       "      <th></th>\n",
       "      <th>Confirmation</th>\n",
       "      <th>Support</th>\n",
       "      <th>No Support</th>\n",
       "      <th>Total</th>\n",
       "    </tr>\n",
       "  </thead>\n",
       "  <tbody>\n",
       "    <tr>\n",
       "      <th>0</th>\n",
       "      <td>Confirm</td>\n",
       "      <td>18</td>\n",
       "      <td>40</td>\n",
       "      <td>58</td>\n",
       "    </tr>\n",
       "    <tr>\n",
       "      <th>1</th>\n",
       "      <td>Not Confirm</td>\n",
       "      <td>32</td>\n",
       "      <td>10</td>\n",
       "      <td>42</td>\n",
       "    </tr>\n",
       "    <tr>\n",
       "      <th>2</th>\n",
       "      <td>Total</td>\n",
       "      <td>50</td>\n",
       "      <td>50</td>\n",
       "      <td>100</td>\n",
       "    </tr>\n",
       "  </tbody>\n",
       "</table>\n",
       "</div>"
      ],
      "text/plain": [
       "  Confirmation  Support  No Support  Total\n",
       "0      Confirm       18          40     58\n",
       "1  Not Confirm       32          10     42\n",
       "2        Total       50          50    100"
      ]
     },
     "execution_count": 175,
     "metadata": {},
     "output_type": "execute_result"
    }
   ],
   "source": [
    "'''\n",
    "A study of conformity using the Asch paradigm involved two conditions: one where\n",
    "one confederate supported the true judgement and another where no confederate\n",
    "gave the correct response.\n",
    "Is there a significant difference between the \"support\" and \"no support\" conditions in the\n",
    "frequency with which individuals are likely to conform? [Chi-Square = 19.87, with 1 df:\n",
    "𝑝 < 0.05].\n",
    "'''\n",
    "import numpy as np\n",
    "import pandas as pd\n",
    "d = {'Confirmation':['Confirm','Not Confirm','Total'],'Support':[18,32,50],'No Support':[40,10,50],'Total':[58,42,100]}\n",
    "df = pd.DataFrame(data=d)\n",
    "df\n"
   ]
  },
  {
   "cell_type": "code",
   "execution_count": 177,
   "metadata": {},
   "outputs": [
    {
     "data": {
      "text/plain": [
       "array([18, 40, 32, 10], dtype=object)"
      ]
     },
     "execution_count": 177,
     "metadata": {},
     "output_type": "execute_result"
    }
   ],
   "source": [
    "df_obs = np.append(df.iloc[0][1:3].values,df.iloc[1][1:3].values)\n",
    "df_obs"
   ]
  },
  {
   "cell_type": "code",
   "execution_count": 185,
   "metadata": {},
   "outputs": [],
   "source": [
    "row_sums = df.iloc[0:2,3].values\n",
    "#row_sums\n",
    "col_sums = df.iloc[2,1:3].values\n",
    "#col_sums"
   ]
  },
  {
   "cell_type": "code",
   "execution_count": 186,
   "metadata": {},
   "outputs": [
    {
     "data": {
      "text/plain": [
       "[29.0, 29.0, 21.0, 21.0]"
      ]
     },
     "execution_count": 186,
     "metadata": {},
     "output_type": "execute_result"
    }
   ],
   "source": [
    "total = df.loc[2, 'Total']\n",
    "f_expected = []\n",
    "for i in range(2):\n",
    "    for j in col_sums:\n",
    "        f_expected.append(j*row_sums[i]/total)\n",
    "f_expected"
   ]
  },
  {
   "cell_type": "code",
   "execution_count": 187,
   "metadata": {},
   "outputs": [
    {
     "name": "stdout",
     "output_type": "stream",
     "text": [
      "Chi-squared Statistic: 19.87\n"
     ]
    }
   ],
   "source": [
    "chi_squared_statistic = ((df_obs - f_expected)**2/f_expected).sum()\n",
    "print('Chi-squared Statistic: {:.2f}'.format(chi_squared_statistic))"
   ]
  },
  {
   "cell_type": "code",
   "execution_count": 188,
   "metadata": {},
   "outputs": [
    {
     "name": "stdout",
     "output_type": "stream",
     "text": [
      "Degrees of Freedom: 1\n"
     ]
    }
   ],
   "source": [
    "dof = (len(row_sums)-1)*(len(col_sums)-1)\n",
    "print(\"Degrees of Freedom: {}\".format(dof))"
   ]
  },
  {
   "cell_type": "code",
   "execution_count": 193,
   "metadata": {},
   "outputs": [
    {
     "name": "stdout",
     "output_type": "stream",
     "text": [
      "Critical value at 0.05 significance level is:3.84\n",
      "So Calculated Chi-Sqaure is far away from the critical value \n",
      "Conclusion: we can conclude that there is a significant difference between the support and no support conditions, \n",
      " in terms of the frequency with which individuals conformed. \n"
     ]
    }
   ],
   "source": [
    "print(\"Critical value at 0.05 significance level is:3.84\")\n",
    "print(\"So Calculated Chi-Sqaure is far away from the critical value \")\n",
    "print(\"Conclusion: we can conclude that there is a significant difference between the support and no support conditions, \\n in terms of the frequency with which individuals conformed. \")"
   ]
  },
  {
   "cell_type": "markdown",
   "metadata": {},
   "source": [
    "# Problem Statement 22:"
   ]
  },
  {
   "cell_type": "code",
   "execution_count": 5,
   "metadata": {},
   "outputs": [
    {
     "data": {
      "text/html": [
       "<div>\n",
       "<style scoped>\n",
       "    .dataframe tbody tr th:only-of-type {\n",
       "        vertical-align: middle;\n",
       "    }\n",
       "\n",
       "    .dataframe tbody tr th {\n",
       "        vertical-align: top;\n",
       "    }\n",
       "\n",
       "    .dataframe thead th {\n",
       "        text-align: right;\n",
       "    }\n",
       "</style>\n",
       "<table border=\"1\" class=\"dataframe\">\n",
       "  <thead>\n",
       "    <tr style=\"text-align: right;\">\n",
       "      <th></th>\n",
       "      <th>Category</th>\n",
       "      <th>Short</th>\n",
       "      <th>Tall</th>\n",
       "      <th>Total</th>\n",
       "    </tr>\n",
       "  </thead>\n",
       "  <tbody>\n",
       "    <tr>\n",
       "      <th>0</th>\n",
       "      <td>Leader</td>\n",
       "      <td>12</td>\n",
       "      <td>32</td>\n",
       "      <td>44</td>\n",
       "    </tr>\n",
       "    <tr>\n",
       "      <th>1</th>\n",
       "      <td>Follower</td>\n",
       "      <td>22</td>\n",
       "      <td>14</td>\n",
       "      <td>36</td>\n",
       "    </tr>\n",
       "    <tr>\n",
       "      <th>2</th>\n",
       "      <td>Unclassifiable</td>\n",
       "      <td>9</td>\n",
       "      <td>6</td>\n",
       "      <td>15</td>\n",
       "    </tr>\n",
       "    <tr>\n",
       "      <th>3</th>\n",
       "      <td>Total</td>\n",
       "      <td>43</td>\n",
       "      <td>52</td>\n",
       "      <td>95</td>\n",
       "    </tr>\n",
       "  </tbody>\n",
       "</table>\n",
       "</div>"
      ],
      "text/plain": [
       "         Category  Short  Tall  Total\n",
       "0          Leader     12    32     44\n",
       "1        Follower     22    14     36\n",
       "2  Unclassifiable      9     6     15\n",
       "3           Total     43    52     95"
      ]
     },
     "execution_count": 5,
     "metadata": {},
     "output_type": "execute_result"
    }
   ],
   "source": [
    "'''\n",
    "We want to test whether short people differ with respect to their leadership qualities\n",
    "(Genghis Khan, Adolf Hitler and Napoleon were all stature-deprived, and how many midget\n",
    "MP's are there?) The following table shows the frequencies with which 43 short people and\n",
    "52 tall people were categorized as \"leaders\", \"followers\" or as \"unclassifiable\". Is there a\n",
    "relationship between height and leadership qualities?\n",
    "[Chi-Square = 10.71, with 2 df: 𝑝 < 0.01]\n",
    "'''\n",
    "import numpy as np\n",
    "import pandas as pd\n",
    "d = {'Category':['Leader','Follower','Unclassifiable','Total'],'Short':[12,22,9,43],'Tall':[32,14,6,52],'Total':[44,36,15,95]}\n",
    "df = pd.DataFrame(data=d)\n",
    "df"
   ]
  },
  {
   "cell_type": "code",
   "execution_count": 10,
   "metadata": {},
   "outputs": [
    {
     "data": {
      "text/plain": [
       "array([12, 32, 22, 14, 9, 6], dtype=object)"
      ]
     },
     "execution_count": 10,
     "metadata": {},
     "output_type": "execute_result"
    }
   ],
   "source": [
    "df_obs = np.concatenate((df.iloc[0][1:3].values,df.iloc[1][1:3].values,df.iloc[2][1:3].values))\n",
    "df_obs"
   ]
  },
  {
   "cell_type": "code",
   "execution_count": 16,
   "metadata": {},
   "outputs": [],
   "source": [
    "row_sums = df.iloc[0:3,3].values\n",
    "#row_sums\n",
    "col_sums = df.iloc[3,1:3].values\n",
    "#col_sums"
   ]
  },
  {
   "cell_type": "code",
   "execution_count": 25,
   "metadata": {},
   "outputs": [
    {
     "data": {
      "text/plain": [
       "[19.91578947368421,\n",
       " 24.08421052631579,\n",
       " 16.294736842105262,\n",
       " 19.705263157894738,\n",
       " 6.7894736842105265,\n",
       " 8.210526315789474]"
      ]
     },
     "execution_count": 25,
     "metadata": {},
     "output_type": "execute_result"
    }
   ],
   "source": [
    "total = df.loc[3, 'Total']\n",
    "f_expected = []\n",
    "for i in range(3):\n",
    "    for j in col_sums:\n",
    "        f_expected.append(j*row_sums[i]/total)\n",
    "f_expected\n",
    "#print('Expected values:{:.2f}'.format(f_expected))"
   ]
  },
  {
   "cell_type": "code",
   "execution_count": 26,
   "metadata": {},
   "outputs": [
    {
     "name": "stdout",
     "output_type": "stream",
     "text": [
      "Chi-squared Statistic: 10.71\n"
     ]
    }
   ],
   "source": [
    "chi_squared_statistic = ((df_obs - f_expected)**2/f_expected).sum()\n",
    "print('Chi-squared Statistic: {:.2f}'.format(chi_squared_statistic))"
   ]
  },
  {
   "cell_type": "code",
   "execution_count": 27,
   "metadata": {},
   "outputs": [
    {
     "name": "stdout",
     "output_type": "stream",
     "text": [
      "Degrees of Freedom: 2\n"
     ]
    }
   ],
   "source": [
    "dof = (len(row_sums)-1)*(len(col_sums)-1)\n",
    "print(\"Degrees of Freedom: {}\".format(dof))"
   ]
  },
  {
   "cell_type": "code",
   "execution_count": 28,
   "metadata": {},
   "outputs": [
    {
     "name": "stdout",
     "output_type": "stream",
     "text": [
      "Critical value for 0.01 significance level is: 9.21\n",
      "Calculated Chisquare value is: 10.71\n",
      "10.71 is greater than the tabulated value of Chi-Square at the 0.01 significance level i.e 9.21\n",
      "Conclusion: We conclude that there seems to be a relationship between height and leadership qualities.\n"
     ]
    }
   ],
   "source": [
    "print(\"Critical value for 0.01 significance level is: 9.21\")\n",
    "print(\"Calculated Chisquare value is: 10.71\")\n",
    "print(\"10.71 is greater than the tabulated value of Chi-Square at the 0.01 significance level i.e 9.21\")\n",
    "print(\"Conclusion: We conclude that there seems to be a relationship between height and leadership qualities.\")"
   ]
  },
  {
   "cell_type": "markdown",
   "metadata": {},
   "source": [
    "# Problem Statement 23: "
   ]
  },
  {
   "cell_type": "code",
   "execution_count": null,
   "metadata": {},
   "outputs": [],
   "source": [
    "\n",
    "'''\n",
    "Each respondent in the Current Population Survey of March 1993 was classified as\n",
    "employed, unemployed, or outside the labor force. The results for men in California age 35-\n",
    "44 can be cross-tabulated by marital status, as follows:\n",
    "Men of different marital status seem to have different distributions of labor force status. Or is\n",
    "this just chance variation? (you may assume the table results from a simple random\n",
    "sample.)\n",
    "\n",
    "'''"
   ]
  },
  {
   "cell_type": "code",
   "execution_count": 31,
   "metadata": {},
   "outputs": [
    {
     "data": {
      "text/html": [
       "<div>\n",
       "<style scoped>\n",
       "    .dataframe tbody tr th:only-of-type {\n",
       "        vertical-align: middle;\n",
       "    }\n",
       "\n",
       "    .dataframe tbody tr th {\n",
       "        vertical-align: top;\n",
       "    }\n",
       "\n",
       "    .dataframe thead th {\n",
       "        text-align: right;\n",
       "    }\n",
       "</style>\n",
       "<table border=\"1\" class=\"dataframe\">\n",
       "  <thead>\n",
       "    <tr style=\"text-align: right;\">\n",
       "      <th></th>\n",
       "      <th>Employment</th>\n",
       "      <th>Married</th>\n",
       "      <th>Widowed,divorced,saperated</th>\n",
       "      <th>Never Married</th>\n",
       "      <th>Total</th>\n",
       "    </tr>\n",
       "  </thead>\n",
       "  <tbody>\n",
       "    <tr>\n",
       "      <th>0</th>\n",
       "      <td>Employed</td>\n",
       "      <td>679</td>\n",
       "      <td>103</td>\n",
       "      <td>114</td>\n",
       "      <td>896</td>\n",
       "    </tr>\n",
       "    <tr>\n",
       "      <th>1</th>\n",
       "      <td>Unemployed</td>\n",
       "      <td>63</td>\n",
       "      <td>10</td>\n",
       "      <td>20</td>\n",
       "      <td>93</td>\n",
       "    </tr>\n",
       "    <tr>\n",
       "      <th>2</th>\n",
       "      <td>Not in Labur force</td>\n",
       "      <td>42</td>\n",
       "      <td>18</td>\n",
       "      <td>25</td>\n",
       "      <td>85</td>\n",
       "    </tr>\n",
       "    <tr>\n",
       "      <th>3</th>\n",
       "      <td>Total</td>\n",
       "      <td>784</td>\n",
       "      <td>131</td>\n",
       "      <td>159</td>\n",
       "      <td>1074</td>\n",
       "    </tr>\n",
       "  </tbody>\n",
       "</table>\n",
       "</div>"
      ],
      "text/plain": [
       "           Employment  Married  Widowed,divorced,saperated  Never Married  \\\n",
       "0            Employed      679                         103            114   \n",
       "1          Unemployed       63                          10             20   \n",
       "2  Not in Labur force       42                          18             25   \n",
       "3               Total      784                         131            159   \n",
       "\n",
       "   Total  \n",
       "0    896  \n",
       "1     93  \n",
       "2     85  \n",
       "3   1074  "
      ]
     },
     "execution_count": 31,
     "metadata": {},
     "output_type": "execute_result"
    }
   ],
   "source": [
    "import numpy as np\n",
    "import pandas as pd\n",
    "d = {'Employment':['Employed','Unemployed','Not in Labur force','Total'],'Married':[679,63,42,784],'Widowed,divorced,saperated':[103,10,18,131],'Never Married':[114,20,25,159],'Total':[896,93,85,1074]}\n",
    "df = pd.DataFrame(data=d)\n",
    "df"
   ]
  },
  {
   "cell_type": "code",
   "execution_count": 32,
   "metadata": {},
   "outputs": [
    {
     "data": {
      "text/plain": [
       "array([679, 103, 114, 63, 10, 20, 42, 18, 25], dtype=object)"
      ]
     },
     "execution_count": 32,
     "metadata": {},
     "output_type": "execute_result"
    }
   ],
   "source": [
    "df_obs = np.concatenate((df.iloc[0][1:4].values,df.iloc[1][1:4].values,df.iloc[2][1:4].values))\n",
    "df_obs"
   ]
  },
  {
   "cell_type": "code",
   "execution_count": 36,
   "metadata": {},
   "outputs": [
    {
     "data": {
      "text/plain": [
       "array([784, 131, 159], dtype=object)"
      ]
     },
     "execution_count": 36,
     "metadata": {},
     "output_type": "execute_result"
    }
   ],
   "source": [
    "row_sums = df.iloc[0:3,4].values\n",
    "#row_sums\n",
    "col_sums = df.iloc[3,1:4].values\n",
    "#col_sums"
   ]
  },
  {
   "cell_type": "code",
   "execution_count": 37,
   "metadata": {},
   "outputs": [
    {
     "data": {
      "text/plain": [
       "[654.0633147113595,\n",
       " 109.28864059590316,\n",
       " 132.64804469273744,\n",
       " 67.88826815642459,\n",
       " 11.343575418994414,\n",
       " 13.768156424581006,\n",
       " 62.04841713221602,\n",
       " 10.36778398510242,\n",
       " 12.583798882681565]"
      ]
     },
     "execution_count": 37,
     "metadata": {},
     "output_type": "execute_result"
    }
   ],
   "source": [
    "total = df.loc[3, 'Total']\n",
    "f_expected = []\n",
    "for i in range(3):\n",
    "    for j in col_sums:\n",
    "        f_expected.append(j*row_sums[i]/total)\n",
    "f_expected"
   ]
  },
  {
   "cell_type": "code",
   "execution_count": 38,
   "metadata": {},
   "outputs": [
    {
     "name": "stdout",
     "output_type": "stream",
     "text": [
      "Chi-squared Statistic: 31.61\n"
     ]
    }
   ],
   "source": [
    "chi_squared_statistic = ((df_obs - f_expected)**2/f_expected).sum()\n",
    "print('Chi-squared Statistic: {:.2f}'.format(chi_squared_statistic))"
   ]
  },
  {
   "cell_type": "code",
   "execution_count": 39,
   "metadata": {},
   "outputs": [
    {
     "name": "stdout",
     "output_type": "stream",
     "text": [
      "Degrees of Freedom: 4\n"
     ]
    }
   ],
   "source": [
    "dof = (len(row_sums)-1)*(len(col_sums)-1)\n",
    "print(\"Degrees of Freedom: {}\".format(dof))"
   ]
  },
  {
   "cell_type": "code",
   "execution_count": 41,
   "metadata": {},
   "outputs": [
    {
     "name": "stdout",
     "output_type": "stream",
     "text": [
      "Critical value for 0.05 significance level is: 9.49\n",
      "Calculated Chisquare value is: 31.61\n",
      "31.61 is far away from the the tabulated value of Chi-Square at the 0.05 significance level i.e 9.49\n",
      "Conclusion: We conclude that Men of different marital status seem to have different distributions of \n",
      "labor force status.\n",
      "Reject the Null Hypothesis\n"
     ]
    }
   ],
   "source": [
    "print(\"Critical value for 0.05 significance level is: 9.49\")\n",
    "print(\"Calculated Chisquare value is: 31.61\")\n",
    "print(\"31.61 is far away from the the tabulated value of Chi-Square at the 0.05 significance level i.e 9.49\")\n",
    "print(\"Conclusion: We conclude that Men of different marital status seem to have different distributions of \\nlabor force status.\")\n",
    "print(\"Reject the Null Hypothesis\")"
   ]
  },
  {
   "cell_type": "code",
   "execution_count": null,
   "metadata": {},
   "outputs": [],
   "source": []
  }
 ],
 "metadata": {
  "kernelspec": {
   "display_name": "Python 3",
   "language": "python",
   "name": "python3"
  },
  "language_info": {
   "codemirror_mode": {
    "name": "ipython",
    "version": 3
   },
   "file_extension": ".py",
   "mimetype": "text/x-python",
   "name": "python",
   "nbconvert_exporter": "python",
   "pygments_lexer": "ipython3",
   "version": "3.7.1"
  }
 },
 "nbformat": 4,
 "nbformat_minor": 2
}
